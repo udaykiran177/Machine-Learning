{
 "cells": [
  {
   "cell_type": "code",
   "execution_count": 1,
   "id": "bb8c91a9",
   "metadata": {},
   "outputs": [],
   "source": [
    "import pandas as pd"
   ]
  },
  {
   "cell_type": "code",
   "execution_count": 58,
   "id": "f7787b33",
   "metadata": {
    "scrolled": false
   },
   "outputs": [
    {
     "data": {
      "text/html": [
       "<div>\n",
       "<style scoped>\n",
       "    .dataframe tbody tr th:only-of-type {\n",
       "        vertical-align: middle;\n",
       "    }\n",
       "\n",
       "    .dataframe tbody tr th {\n",
       "        vertical-align: top;\n",
       "    }\n",
       "\n",
       "    .dataframe thead th {\n",
       "        text-align: right;\n",
       "    }\n",
       "</style>\n",
       "<table border=\"1\" class=\"dataframe\">\n",
       "  <thead>\n",
       "    <tr style=\"text-align: right;\">\n",
       "      <th></th>\n",
       "      <th>Sky</th>\n",
       "      <th>AirTemp</th>\n",
       "      <th>Humidity</th>\n",
       "      <th>Wind</th>\n",
       "      <th>Water</th>\n",
       "      <th>Forecast</th>\n",
       "      <th>EnjoySport</th>\n",
       "    </tr>\n",
       "  </thead>\n",
       "  <tbody>\n",
       "    <tr>\n",
       "      <th>0</th>\n",
       "      <td>sunny</td>\n",
       "      <td>warm</td>\n",
       "      <td>normal</td>\n",
       "      <td>strong</td>\n",
       "      <td>warm</td>\n",
       "      <td>same</td>\n",
       "      <td>yes</td>\n",
       "    </tr>\n",
       "    <tr>\n",
       "      <th>1</th>\n",
       "      <td>sunny</td>\n",
       "      <td>warm</td>\n",
       "      <td>high</td>\n",
       "      <td>strong</td>\n",
       "      <td>warm</td>\n",
       "      <td>same</td>\n",
       "      <td>yes</td>\n",
       "    </tr>\n",
       "    <tr>\n",
       "      <th>2</th>\n",
       "      <td>rainy</td>\n",
       "      <td>cold</td>\n",
       "      <td>high</td>\n",
       "      <td>strong</td>\n",
       "      <td>warm</td>\n",
       "      <td>change</td>\n",
       "      <td>no</td>\n",
       "    </tr>\n",
       "    <tr>\n",
       "      <th>3</th>\n",
       "      <td>sunny</td>\n",
       "      <td>warm</td>\n",
       "      <td>high</td>\n",
       "      <td>strong</td>\n",
       "      <td>cool</td>\n",
       "      <td>change</td>\n",
       "      <td>yes</td>\n",
       "    </tr>\n",
       "  </tbody>\n",
       "</table>\n",
       "</div>"
      ],
      "text/plain": [
       "     Sky AirTemp Humidity    Wind Water Forecast EnjoySport\n",
       "0  sunny    warm   normal  strong  warm     same        yes\n",
       "1  sunny    warm     high  strong  warm     same        yes\n",
       "2  rainy    cold     high  strong  warm   change         no\n",
       "3  sunny    warm     high  strong  cool   change        yes"
      ]
     },
     "execution_count": 58,
     "metadata": {},
     "output_type": "execute_result"
    }
   ],
   "source": [
    "df=pd.read_csv('Z:\\\\Z 5\\\\ML\\\\weather.csv')\n",
    "\n",
    "df=pd.DataFrame(df)\n",
    "df.drop(columns='Example',inplace=True)\n",
    "# df['EnjoySport'][0]='no'\n",
    "df"
   ]
  },
  {
   "cell_type": "code",
   "execution_count": 56,
   "id": "bebc6e95",
   "metadata": {},
   "outputs": [],
   "source": [
    "def update(main,temp):\n",
    "    for i in range(len(main)):\n",
    "        if main[i]!=temp[i]:\n",
    "            main[i]='?'\n",
    "    return main"
   ]
  },
  {
   "cell_type": "code",
   "execution_count": 59,
   "id": "25f47af3",
   "metadata": {},
   "outputs": [
    {
     "name": "stdout",
     "output_type": "stream",
     "text": [
      "['sunny', 'warm', '?', 'strong', '?', '?', 'yes']\n"
     ]
    }
   ],
   "source": [
    "cols=len(df.columns)\n",
    "# l=[None]*cols\n",
    "l=list(df[df['EnjoySport']=='yes'].iloc[0])\n",
    "for i in range(0,len(df)):\n",
    "    if (df.iloc[i]['EnjoySport']=='yes'):\n",
    "        t=list(df.iloc[i])\n",
    "        l=update(l,t)\n",
    "print(l)"
   ]
  },
  {
   "cell_type": "markdown",
   "id": "46f906a7",
   "metadata": {},
   "source": [
    "# CANDIDATE ELIMINATION ALGORITHM"
   ]
  },
  {
   "cell_type": "code",
   "execution_count": 67,
   "id": "0e006e98",
   "metadata": {
    "scrolled": true
   },
   "outputs": [
    {
     "data": {
      "text/html": [
       "<div>\n",
       "<style scoped>\n",
       "    .dataframe tbody tr th:only-of-type {\n",
       "        vertical-align: middle;\n",
       "    }\n",
       "\n",
       "    .dataframe tbody tr th {\n",
       "        vertical-align: top;\n",
       "    }\n",
       "\n",
       "    .dataframe thead th {\n",
       "        text-align: right;\n",
       "    }\n",
       "</style>\n",
       "<table border=\"1\" class=\"dataframe\">\n",
       "  <thead>\n",
       "    <tr style=\"text-align: right;\">\n",
       "      <th></th>\n",
       "      <th>sky</th>\n",
       "      <th>temperature</th>\n",
       "      <th>Humid</th>\n",
       "      <th>wind</th>\n",
       "      <th>water</th>\n",
       "      <th>forest</th>\n",
       "      <th>output</th>\n",
       "    </tr>\n",
       "  </thead>\n",
       "  <tbody>\n",
       "    <tr>\n",
       "      <th>0</th>\n",
       "      <td>sunny</td>\n",
       "      <td>warm</td>\n",
       "      <td>normal</td>\n",
       "      <td>strong</td>\n",
       "      <td>warm</td>\n",
       "      <td>same</td>\n",
       "      <td>yes</td>\n",
       "    </tr>\n",
       "    <tr>\n",
       "      <th>1</th>\n",
       "      <td>sunny</td>\n",
       "      <td>warm</td>\n",
       "      <td>high</td>\n",
       "      <td>strong</td>\n",
       "      <td>warm</td>\n",
       "      <td>same</td>\n",
       "      <td>yes</td>\n",
       "    </tr>\n",
       "    <tr>\n",
       "      <th>2</th>\n",
       "      <td>rainy</td>\n",
       "      <td>cold</td>\n",
       "      <td>high</td>\n",
       "      <td>strong</td>\n",
       "      <td>warm</td>\n",
       "      <td>change</td>\n",
       "      <td>no</td>\n",
       "    </tr>\n",
       "    <tr>\n",
       "      <th>3</th>\n",
       "      <td>sunny</td>\n",
       "      <td>warm</td>\n",
       "      <td>high</td>\n",
       "      <td>strong</td>\n",
       "      <td>cool</td>\n",
       "      <td>change</td>\n",
       "      <td>yes</td>\n",
       "    </tr>\n",
       "  </tbody>\n",
       "</table>\n",
       "</div>"
      ],
      "text/plain": [
       "     sky temperature   Humid    wind water  forest output\n",
       "0  sunny        warm  normal  strong  warm    same    yes\n",
       "1  sunny        warm    high  strong  warm    same    yes\n",
       "2  rainy        cold    high  strong  warm  change     no\n",
       "3  sunny        warm    high  strong  cool  change    yes"
      ]
     },
     "execution_count": 67,
     "metadata": {},
     "output_type": "execute_result"
    }
   ],
   "source": [
    "df=pd.read_csv('Z:\\\\Z 5\\\\ML\\\\Book1.csv')\n",
    "df=pd.DataFrame(df)\n",
    "# df.drop(columns='Example',inplace=True)\n"
   ]
  },
  {
   "cell_type": "code",
   "execution_count": 95,
   "id": "cfc31fbf",
   "metadata": {},
   "outputs": [],
   "source": [
    "def update1(main,temp):\n",
    "    for i in range(len(main)):\n",
    "        if main[i]!=temp[i]:\n",
    "            main[i]='?'\n",
    "    return main\n",
    "\n",
    "\n",
    "def update2(main,m2,temp):\n",
    "    \n",
    "    for i in range(len(m2)):\n",
    "        l=['?']*len(m2)\n",
    "        if m2[i]!=temp[i]:\n",
    "            l[i]=m2[i]\n",
    "            main[i]=l\n",
    "            l=['?']*len(m2)\n",
    "    return main\n",
    "\n",
    "\n",
    "def synchronise(gen,spe):\n",
    "    for i in range(len(spe)):\n",
    "        if (gen[i][i]!='?' and spe[i]=='?'):\n",
    "            gen[i][i]='?'\n",
    "    return gen"
   ]
  },
  {
   "cell_type": "code",
   "execution_count": 97,
   "id": "78502f0c",
   "metadata": {},
   "outputs": [
    {
     "name": "stdout",
     "output_type": "stream",
     "text": [
      "['sunny', 'warm', '?', 'strong', '?', '?', 'yes']\n",
      "[['sunny', '?', '?', '?', '?', '?', '?'], ['?', 'warm', '?', '?', '?', '?', '?'], ['?', '?', '?', '?', '?', '?', '?'], ['?', '?', '?', '?', '?', '?', '?'], ['?', '?', '?', '?', '?', '?', '?'], ['?', '?', '?', '?', '?', '?', '?'], ['?', '?', '?', '?', '?', '?', 'yes']]\n"
     ]
    }
   ],
   "source": [
    "cols=len(df.columns)\n",
    "row=len(df)\n",
    "\n",
    "gen=[['?']*(cols)]*(cols)\n",
    "# gen=[]\n",
    "spe=list(df[df['output']=='yes'].iloc[0])\n",
    "\n",
    "for i in range(row):\n",
    "    l=list(df.iloc[i])\n",
    "    if (df.iloc[i]['output']=='yes'):\n",
    "        spe=update1(spe,df.iloc[i])\n",
    "    else:\n",
    "        gen=update2(gen,spe,df.iloc[i])\n",
    "\n",
    "gen=synchronise(gen,spe)\n",
    "print(spe)\n",
    "print(gen)"
   ]
  },
  {
   "cell_type": "markdown",
   "id": "e8333bcf",
   "metadata": {},
   "source": [
    "# Naive Bayes"
   ]
  },
  {
   "cell_type": "code",
   "execution_count": 1,
   "id": "a300fba7",
   "metadata": {},
   "outputs": [],
   "source": [
    "import numpy as np\n",
    "import pandas as pd"
   ]
  },
  {
   "cell_type": "code",
   "execution_count": 2,
   "id": "cf82fcda",
   "metadata": {},
   "outputs": [
    {
     "data": {
      "text/html": [
       "<div>\n",
       "<style scoped>\n",
       "    .dataframe tbody tr th:only-of-type {\n",
       "        vertical-align: middle;\n",
       "    }\n",
       "\n",
       "    .dataframe tbody tr th {\n",
       "        vertical-align: top;\n",
       "    }\n",
       "\n",
       "    .dataframe thead th {\n",
       "        text-align: right;\n",
       "    }\n",
       "</style>\n",
       "<table border=\"1\" class=\"dataframe\">\n",
       "  <thead>\n",
       "    <tr style=\"text-align: right;\">\n",
       "      <th></th>\n",
       "      <th>Outlook</th>\n",
       "      <th>Temperature</th>\n",
       "      <th>Humidity</th>\n",
       "      <th>Windy</th>\n",
       "      <th>Class</th>\n",
       "    </tr>\n",
       "  </thead>\n",
       "  <tbody>\n",
       "    <tr>\n",
       "      <th>0</th>\n",
       "      <td>sunny</td>\n",
       "      <td>hot</td>\n",
       "      <td>high</td>\n",
       "      <td>False</td>\n",
       "      <td>N</td>\n",
       "    </tr>\n",
       "    <tr>\n",
       "      <th>1</th>\n",
       "      <td>sunny</td>\n",
       "      <td>hot</td>\n",
       "      <td>high</td>\n",
       "      <td>True</td>\n",
       "      <td>N</td>\n",
       "    </tr>\n",
       "    <tr>\n",
       "      <th>2</th>\n",
       "      <td>overcast</td>\n",
       "      <td>hot</td>\n",
       "      <td>high</td>\n",
       "      <td>False</td>\n",
       "      <td>P</td>\n",
       "    </tr>\n",
       "    <tr>\n",
       "      <th>3</th>\n",
       "      <td>rain</td>\n",
       "      <td>mild</td>\n",
       "      <td>high</td>\n",
       "      <td>False</td>\n",
       "      <td>P</td>\n",
       "    </tr>\n",
       "    <tr>\n",
       "      <th>4</th>\n",
       "      <td>rain</td>\n",
       "      <td>cool</td>\n",
       "      <td>normal</td>\n",
       "      <td>False</td>\n",
       "      <td>P</td>\n",
       "    </tr>\n",
       "    <tr>\n",
       "      <th>5</th>\n",
       "      <td>rain</td>\n",
       "      <td>cool</td>\n",
       "      <td>normal</td>\n",
       "      <td>True</td>\n",
       "      <td>N</td>\n",
       "    </tr>\n",
       "    <tr>\n",
       "      <th>6</th>\n",
       "      <td>overcast</td>\n",
       "      <td>cool</td>\n",
       "      <td>normal</td>\n",
       "      <td>True</td>\n",
       "      <td>P</td>\n",
       "    </tr>\n",
       "    <tr>\n",
       "      <th>7</th>\n",
       "      <td>sunny</td>\n",
       "      <td>mild</td>\n",
       "      <td>high</td>\n",
       "      <td>False</td>\n",
       "      <td>N</td>\n",
       "    </tr>\n",
       "    <tr>\n",
       "      <th>8</th>\n",
       "      <td>sunny</td>\n",
       "      <td>cool</td>\n",
       "      <td>normal</td>\n",
       "      <td>False</td>\n",
       "      <td>P</td>\n",
       "    </tr>\n",
       "    <tr>\n",
       "      <th>9</th>\n",
       "      <td>rain</td>\n",
       "      <td>mild</td>\n",
       "      <td>normal</td>\n",
       "      <td>False</td>\n",
       "      <td>P</td>\n",
       "    </tr>\n",
       "    <tr>\n",
       "      <th>10</th>\n",
       "      <td>sunny</td>\n",
       "      <td>mild</td>\n",
       "      <td>normal</td>\n",
       "      <td>True</td>\n",
       "      <td>P</td>\n",
       "    </tr>\n",
       "    <tr>\n",
       "      <th>11</th>\n",
       "      <td>overcast</td>\n",
       "      <td>mild</td>\n",
       "      <td>high</td>\n",
       "      <td>True</td>\n",
       "      <td>P</td>\n",
       "    </tr>\n",
       "    <tr>\n",
       "      <th>12</th>\n",
       "      <td>overcast</td>\n",
       "      <td>hot</td>\n",
       "      <td>normal</td>\n",
       "      <td>False</td>\n",
       "      <td>P</td>\n",
       "    </tr>\n",
       "    <tr>\n",
       "      <th>13</th>\n",
       "      <td>rain</td>\n",
       "      <td>mild</td>\n",
       "      <td>high</td>\n",
       "      <td>True</td>\n",
       "      <td>N</td>\n",
       "    </tr>\n",
       "  </tbody>\n",
       "</table>\n",
       "</div>"
      ],
      "text/plain": [
       "     Outlook Temperature Humidity  Windy Class\n",
       "0      sunny         hot     high  False     N\n",
       "1      sunny         hot     high   True     N\n",
       "2   overcast         hot     high  False     P\n",
       "3       rain        mild     high  False     P\n",
       "4       rain        cool   normal  False     P\n",
       "5       rain        cool   normal   True     N\n",
       "6   overcast        cool   normal   True     P\n",
       "7      sunny        mild     high  False     N\n",
       "8      sunny        cool   normal  False     P\n",
       "9       rain        mild   normal  False     P\n",
       "10     sunny        mild   normal   True     P\n",
       "11  overcast        mild     high   True     P\n",
       "12  overcast         hot   normal  False     P\n",
       "13      rain        mild     high   True     N"
      ]
     },
     "execution_count": 2,
     "metadata": {},
     "output_type": "execute_result"
    }
   ],
   "source": [
    "df=pd.read_csv('Z:\\\\Z 5\\\\ML\\\\bayesian.csv')\n",
    "df"
   ]
  },
  {
   "cell_type": "code",
   "execution_count": 111,
   "id": "abe27e60",
   "metadata": {},
   "outputs": [],
   "source": [
    "train=df[:12]\n",
    "\n",
    "test=df[12:]\n"
   ]
  },
  {
   "cell_type": "code",
   "execution_count": 86,
   "id": "63887d54",
   "metadata": {},
   "outputs": [
    {
     "name": "stdout",
     "output_type": "stream",
     "text": [
      "{'sunny': [0.2222222222222222, 0.6], 'rain': [0.3333333333333333, 0.4], 'overcast': [0.4444444444444444, 0.0], 'hot': [0.2222222222222222, 0.4], 'mild': [0.4444444444444444, 0.4], 'cool': [0.3333333333333333, 0.2], 'high': [0.3333333333333333, 0.8], 'normal': [0.6666666666666666, 0.2], False: [0.6666666666666666, 0.4], True: [0.3333333333333333, 0.6], 'P': [1.0, 0.0], 'N': [0.0, 1.0]}\n"
     ]
    }
   ],
   "source": [
    "Y=list(df['Class']).count('P')\n",
    "N=list(df['Class']).count('N')\n",
    "P_Y=Y/len(df)\n",
    "P_N=N/len(df)\n",
    "\n",
    "col=df.columns\n",
    "\n",
    "def probs(i,s,d,Y,N):\n",
    "    tot=len(df[i])\n",
    "    p_n=df[i][(df['Class']=='N') & (df[i]==s)]\n",
    "    p_y=df[i][(df['Class']=='P')  & (df[i]==s)]\n",
    "#     print(s,\" \",len(p_y),'  ',len(p_n))\n",
    "    d[s]=list([len(p_y)/Y,len(p_n)/N])\n",
    "d={}\n",
    "for i in col:\n",
    "    s=set(df[i])\n",
    "    for j in s:\n",
    "        probs(i,j,d,Y,N)\n",
    "print(d)"
   ]
  },
  {
   "cell_type": "code",
   "execution_count": 112,
   "id": "ca998ed9",
   "metadata": {},
   "outputs": [
    {
     "name": "stdout",
     "output_type": "stream",
     "text": [
      "['overcast' 'hot' 'normal' False 'P']\n",
      "0.028218694885361547    0.0\n",
      "Positive\n",
      "['rain' 'mild' 'high' True 'N']\n",
      "0.010582010582010581    0.027428571428571438\n",
      "Negative\n"
     ]
    }
   ],
   "source": [
    "cols=test.columns\n",
    "# print(cols)\n",
    "k=0\n",
    "for ind,i in test.iterrows():\n",
    "#     print(i.values)\n",
    "    p,n=1,1\n",
    "    for j in i.values[:-1]:\n",
    "        p*=d[j][0]\n",
    "        n*=d[j][1]\n",
    "    p*=P_Y\n",
    "    n*=P_N\n",
    "#     print(p,\"  \",n)\n",
    "    if (p>n):\n",
    "        print('Positive')\n",
    "    else:\n",
    "        print('Negative')"
   ]
  },
  {
   "cell_type": "code",
   "execution_count": 107,
   "id": "cf731066",
   "metadata": {},
   "outputs": [
    {
     "name": "stdout",
     "output_type": "stream",
     "text": [
      "Outlook        overcast\n",
      "Temperature         hot\n",
      "Humidity         normal\n",
      "Windy             False\n",
      "Name: 12, dtype: object\n",
      "Outlook        rain\n",
      "Temperature    mild\n",
      "Humidity       high\n",
      "Windy          True\n",
      "Name: 13, dtype: object\n"
     ]
    }
   ],
   "source": []
  }
 ],
 "metadata": {
  "kernelspec": {
   "display_name": "Python 3 (ipykernel)",
   "language": "python",
   "name": "python3"
  },
  "language_info": {
   "codemirror_mode": {
    "name": "ipython",
    "version": 3
   },
   "file_extension": ".py",
   "mimetype": "text/x-python",
   "name": "python",
   "nbconvert_exporter": "python",
   "pygments_lexer": "ipython3",
   "version": "3.9.7"
  }
 },
 "nbformat": 4,
 "nbformat_minor": 5
}
